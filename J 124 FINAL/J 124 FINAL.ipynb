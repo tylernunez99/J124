{
 "cells": [
  {
   "cell_type": "markdown",
   "metadata": {},
   "source": [
    "## J124 Data Journalism Final Project\n",
    "For this exploratory data analysis we will be looking at a dataset that contains the list of wildfires in California between 2013 and 2020 with information on location. In this notebook we will use Python to answer the following five question: \n",
    "1. Has the frequency of fires in California changed over time?\n",
    "2. What counties in California experience the most fires?\n",
    "3. Which counties have the most major incidents?\n",
    "4. Where were the worst fires in 2019?\n",
    "5. Has fire damage increased in California over time?"
   ]
  },
  {
   "cell_type": "code",
   "execution_count": 1,
   "metadata": {},
   "outputs": [],
   "source": [
    "import pandas as pd\n",
    "import numpy as np\n",
    "from scipy import stats\n",
    "\n",
    "import matplotlib.pyplot as plt\n",
    "%matplotlib inline\n",
    "import matplotlib\n",
    "from matplotlib.patches import Rectangle\n",
    "\n",
    "import seaborn as sns\n",
    "\n",
    "matplotlib.style.use('fivethirtyeight')"
   ]
  },
  {
   "cell_type": "markdown",
   "metadata": {},
   "source": [
    "Reading in the California Fire Incidents CSV :"
   ]
  },
  {
   "cell_type": "code",
   "execution_count": 10,
   "metadata": {},
   "outputs": [
    {
     "data": {
      "text/html": [
       "<div>\n",
       "<style scoped>\n",
       "    .dataframe tbody tr th:only-of-type {\n",
       "        vertical-align: middle;\n",
       "    }\n",
       "\n",
       "    .dataframe tbody tr th {\n",
       "        vertical-align: top;\n",
       "    }\n",
       "\n",
       "    .dataframe thead th {\n",
       "        text-align: right;\n",
       "    }\n",
       "</style>\n",
       "<table border=\"1\" class=\"dataframe\">\n",
       "  <thead>\n",
       "    <tr style=\"text-align: right;\">\n",
       "      <th></th>\n",
       "      <th>AcresBurned</th>\n",
       "      <th>Active</th>\n",
       "      <th>AdminUnit</th>\n",
       "      <th>AirTankers</th>\n",
       "      <th>ArchiveYear</th>\n",
       "      <th>CalFireIncident</th>\n",
       "      <th>CanonicalUrl</th>\n",
       "      <th>ConditionStatement</th>\n",
       "      <th>ControlStatement</th>\n",
       "      <th>Counties</th>\n",
       "      <th>...</th>\n",
       "      <th>SearchKeywords</th>\n",
       "      <th>Started</th>\n",
       "      <th>Status</th>\n",
       "      <th>StructuresDamaged</th>\n",
       "      <th>StructuresDestroyed</th>\n",
       "      <th>StructuresEvacuated</th>\n",
       "      <th>StructuresThreatened</th>\n",
       "      <th>UniqueId</th>\n",
       "      <th>Updated</th>\n",
       "      <th>WaterTenders</th>\n",
       "    </tr>\n",
       "  </thead>\n",
       "  <tbody>\n",
       "    <tr>\n",
       "      <th>0</th>\n",
       "      <td>257314.0</td>\n",
       "      <td>False</td>\n",
       "      <td>Stanislaus National Forest/Yosemite National Park</td>\n",
       "      <td>NaN</td>\n",
       "      <td>2013</td>\n",
       "      <td>True</td>\n",
       "      <td>/incidents/2013/8/17/rim-fire/</td>\n",
       "      <td>NaN</td>\n",
       "      <td>NaN</td>\n",
       "      <td>Tuolumne</td>\n",
       "      <td>...</td>\n",
       "      <td>Rim Fire, Stanislaus National Forest, Yosemite...</td>\n",
       "      <td>2013-08-17T15:25:00Z</td>\n",
       "      <td>Finalized</td>\n",
       "      <td>NaN</td>\n",
       "      <td>NaN</td>\n",
       "      <td>NaN</td>\n",
       "      <td>NaN</td>\n",
       "      <td>5fb18d4d-213f-4d83-a179-daaf11939e78</td>\n",
       "      <td>2013-09-06T18:30:00Z</td>\n",
       "      <td>NaN</td>\n",
       "    </tr>\n",
       "    <tr>\n",
       "      <th>1</th>\n",
       "      <td>30274.0</td>\n",
       "      <td>False</td>\n",
       "      <td>USFS Angeles National Forest/Los Angeles Count...</td>\n",
       "      <td>NaN</td>\n",
       "      <td>2013</td>\n",
       "      <td>True</td>\n",
       "      <td>/incidents/2013/5/30/powerhouse-fire/</td>\n",
       "      <td>NaN</td>\n",
       "      <td>NaN</td>\n",
       "      <td>Los Angeles</td>\n",
       "      <td>...</td>\n",
       "      <td>Powerhouse Fire, May 2013, June 2013, Angeles ...</td>\n",
       "      <td>2013-05-30T15:28:00Z</td>\n",
       "      <td>Finalized</td>\n",
       "      <td>NaN</td>\n",
       "      <td>NaN</td>\n",
       "      <td>NaN</td>\n",
       "      <td>NaN</td>\n",
       "      <td>bf37805e-1cc2-4208-9972-753e47874c87</td>\n",
       "      <td>2013-06-08T18:30:00Z</td>\n",
       "      <td>NaN</td>\n",
       "    </tr>\n",
       "    <tr>\n",
       "      <th>2</th>\n",
       "      <td>27531.0</td>\n",
       "      <td>False</td>\n",
       "      <td>CAL FIRE Riverside Unit / San Bernardino Natio...</td>\n",
       "      <td>NaN</td>\n",
       "      <td>2013</td>\n",
       "      <td>True</td>\n",
       "      <td>/incidents/2013/7/15/mountain-fire/</td>\n",
       "      <td>NaN</td>\n",
       "      <td>NaN</td>\n",
       "      <td>Riverside</td>\n",
       "      <td>...</td>\n",
       "      <td>Mountain Fire, July 2013, Highway 243, Highway...</td>\n",
       "      <td>2013-07-15T13:43:00Z</td>\n",
       "      <td>Finalized</td>\n",
       "      <td>NaN</td>\n",
       "      <td>NaN</td>\n",
       "      <td>NaN</td>\n",
       "      <td>NaN</td>\n",
       "      <td>a3149fec-4d48-427c-8b2c-59e8b79d59db</td>\n",
       "      <td>2013-07-30T18:00:00Z</td>\n",
       "      <td>NaN</td>\n",
       "    </tr>\n",
       "    <tr>\n",
       "      <th>3</th>\n",
       "      <td>27440.0</td>\n",
       "      <td>False</td>\n",
       "      <td>Tahoe National Forest</td>\n",
       "      <td>NaN</td>\n",
       "      <td>2013</td>\n",
       "      <td>False</td>\n",
       "      <td>/incidents/2013/8/10/american-fire/</td>\n",
       "      <td>NaN</td>\n",
       "      <td>NaN</td>\n",
       "      <td>Placer</td>\n",
       "      <td>...</td>\n",
       "      <td>American Fire, August 2013, Deadwood Ridge, Fo...</td>\n",
       "      <td>2013-08-10T16:30:00Z</td>\n",
       "      <td>Finalized</td>\n",
       "      <td>NaN</td>\n",
       "      <td>NaN</td>\n",
       "      <td>NaN</td>\n",
       "      <td>NaN</td>\n",
       "      <td>8213f5c7-34fa-403b-a4bc-da2ace6e6625</td>\n",
       "      <td>2013-08-30T08:00:00Z</td>\n",
       "      <td>NaN</td>\n",
       "    </tr>\n",
       "    <tr>\n",
       "      <th>4</th>\n",
       "      <td>24251.0</td>\n",
       "      <td>False</td>\n",
       "      <td>Ventura County Fire/CAL FIRE</td>\n",
       "      <td>NaN</td>\n",
       "      <td>2013</td>\n",
       "      <td>True</td>\n",
       "      <td>/incidents/2013/5/2/springs-fire/</td>\n",
       "      <td>Acreage has been reduced based upon more accur...</td>\n",
       "      <td>NaN</td>\n",
       "      <td>Ventura</td>\n",
       "      <td>...</td>\n",
       "      <td>Springs Fire, May 2013, Highway 101, Camarillo...</td>\n",
       "      <td>2013-05-02T07:01:00Z</td>\n",
       "      <td>Finalized</td>\n",
       "      <td>6.0</td>\n",
       "      <td>10.0</td>\n",
       "      <td>NaN</td>\n",
       "      <td>NaN</td>\n",
       "      <td>46731fb8-3350-4920-bdf7-910ac0eb715c</td>\n",
       "      <td>2013-05-11T06:30:00Z</td>\n",
       "      <td>11.0</td>\n",
       "    </tr>\n",
       "  </tbody>\n",
       "</table>\n",
       "<p>5 rows × 40 columns</p>\n",
       "</div>"
      ],
      "text/plain": [
       "   AcresBurned  Active                                          AdminUnit  \\\n",
       "0     257314.0   False  Stanislaus National Forest/Yosemite National Park   \n",
       "1      30274.0   False  USFS Angeles National Forest/Los Angeles Count...   \n",
       "2      27531.0   False  CAL FIRE Riverside Unit / San Bernardino Natio...   \n",
       "3      27440.0   False                              Tahoe National Forest   \n",
       "4      24251.0   False                       Ventura County Fire/CAL FIRE   \n",
       "\n",
       "   AirTankers  ArchiveYear  CalFireIncident  \\\n",
       "0         NaN         2013             True   \n",
       "1         NaN         2013             True   \n",
       "2         NaN         2013             True   \n",
       "3         NaN         2013            False   \n",
       "4         NaN         2013             True   \n",
       "\n",
       "                            CanonicalUrl  \\\n",
       "0         /incidents/2013/8/17/rim-fire/   \n",
       "1  /incidents/2013/5/30/powerhouse-fire/   \n",
       "2    /incidents/2013/7/15/mountain-fire/   \n",
       "3    /incidents/2013/8/10/american-fire/   \n",
       "4      /incidents/2013/5/2/springs-fire/   \n",
       "\n",
       "                                  ConditionStatement ControlStatement  \\\n",
       "0                                                NaN              NaN   \n",
       "1                                                NaN              NaN   \n",
       "2                                                NaN              NaN   \n",
       "3                                                NaN              NaN   \n",
       "4  Acreage has been reduced based upon more accur...              NaN   \n",
       "\n",
       "      Counties      ...       \\\n",
       "0     Tuolumne      ...        \n",
       "1  Los Angeles      ...        \n",
       "2    Riverside      ...        \n",
       "3       Placer      ...        \n",
       "4      Ventura      ...        \n",
       "\n",
       "                                      SearchKeywords               Started  \\\n",
       "0  Rim Fire, Stanislaus National Forest, Yosemite...  2013-08-17T15:25:00Z   \n",
       "1  Powerhouse Fire, May 2013, June 2013, Angeles ...  2013-05-30T15:28:00Z   \n",
       "2  Mountain Fire, July 2013, Highway 243, Highway...  2013-07-15T13:43:00Z   \n",
       "3  American Fire, August 2013, Deadwood Ridge, Fo...  2013-08-10T16:30:00Z   \n",
       "4  Springs Fire, May 2013, Highway 101, Camarillo...  2013-05-02T07:01:00Z   \n",
       "\n",
       "      Status  StructuresDamaged StructuresDestroyed  StructuresEvacuated  \\\n",
       "0  Finalized                NaN                 NaN                  NaN   \n",
       "1  Finalized                NaN                 NaN                  NaN   \n",
       "2  Finalized                NaN                 NaN                  NaN   \n",
       "3  Finalized                NaN                 NaN                  NaN   \n",
       "4  Finalized                6.0                10.0                  NaN   \n",
       "\n",
       "   StructuresThreatened                              UniqueId  \\\n",
       "0                   NaN  5fb18d4d-213f-4d83-a179-daaf11939e78   \n",
       "1                   NaN  bf37805e-1cc2-4208-9972-753e47874c87   \n",
       "2                   NaN  a3149fec-4d48-427c-8b2c-59e8b79d59db   \n",
       "3                   NaN  8213f5c7-34fa-403b-a4bc-da2ace6e6625   \n",
       "4                   NaN  46731fb8-3350-4920-bdf7-910ac0eb715c   \n",
       "\n",
       "                Updated  WaterTenders  \n",
       "0  2013-09-06T18:30:00Z           NaN  \n",
       "1  2013-06-08T18:30:00Z           NaN  \n",
       "2  2013-07-30T18:00:00Z           NaN  \n",
       "3  2013-08-30T08:00:00Z           NaN  \n",
       "4  2013-05-11T06:30:00Z          11.0  \n",
       "\n",
       "[5 rows x 40 columns]"
      ]
     },
     "execution_count": 10,
     "metadata": {},
     "output_type": "execute_result"
    }
   ],
   "source": [
    "df = pd.read_csv(\"California_Fire_Incidents.csv\")\n",
    "df.head()"
   ]
  },
  {
   "cell_type": "code",
   "execution_count": 127,
   "metadata": {
    "scrolled": true
   },
   "outputs": [
    {
     "name": "stdout",
     "output_type": "stream",
     "text": [
      "There are 1636 rows\n",
      "There are 3 NaN values in the AcresBurned column\n",
      "There are 0 NaN values in the Active column\n",
      "There are 0 NaN values in the AdminUnit column\n",
      "There are 1608 NaN values in the AirTankers column\n",
      "There are 0 NaN values in the ArchiveYear column\n",
      "There are 0 NaN values in the CalFireIncident column\n",
      "There are 0 NaN values in the CanonicalUrl column\n",
      "There are 1352 NaN values in the ConditionStatement column\n",
      "There are 1525 NaN values in the ControlStatement column\n",
      "There are 0 NaN values in the Counties column\n",
      "There are 0 NaN values in the CountyIds column\n",
      "There are 1465 NaN values in the CrewsInvolved column\n",
      "There are 1513 NaN values in the Dozers column\n",
      "There are 1445 NaN values in the Engines column\n",
      "There are 59 NaN values in the Extinguished column\n",
      "There are 1615 NaN values in the Fatalities column\n",
      "There are 0 NaN values in the Featured column\n",
      "There are 0 NaN values in the Final column\n",
      "There are 1624 NaN values in the FuelType column\n",
      "There are 1552 NaN values in the Helicopters column\n",
      "There are 1516 NaN values in the Injuries column\n",
      "There are 0 NaN values in the Latitude column\n",
      "There are 0 NaN values in the Location column\n",
      "There are 0 NaN values in the Longitude column\n",
      "There are 0 NaN values in the MajorIncident column\n",
      "There are 0 NaN values in the Name column\n",
      "There are 3 NaN values in the PercentContained column\n",
      "There are 1432 NaN values in the PersonnelInvolved column\n",
      "There are 0 NaN values in the Public column\n",
      "There are 17 NaN values in the SearchDescription column\n",
      "There are 203 NaN values in the SearchKeywords column\n",
      "There are 0 NaN values in the Started column\n",
      "There are 0 NaN values in the Status column\n",
      "There are 1569 NaN values in the StructuresDamaged column\n",
      "There are 1461 NaN values in the StructuresDestroyed column\n",
      "There are 1636 NaN values in the StructuresEvacuated column\n",
      "There are 1606 NaN values in the StructuresThreatened column\n",
      "There are 0 NaN values in the UniqueId column\n",
      "There are 0 NaN values in the Updated column\n",
      "There are 1490 NaN values in the WaterTenders column\n",
      "There are 0 NaN values in the Year Started column\n"
     ]
    }
   ],
   "source": [
    "# Check for NaN values in columns (1636 total rows)\n",
    "print('There are {} rows'.format(len(df)))\n",
    "for col in df.columns:\n",
    "    col_i = df[col]\n",
    "    nan_rows = col_i[col_i.isna()]\n",
    "    print('There are {} NaN values in the {} column'.format(len(nan_rows), col))"
   ]
  },
  {
   "cell_type": "markdown",
   "metadata": {},
   "source": [
    "## Question 1: Has the frequency of fires in California changed over time?"
   ]
  },
  {
   "cell_type": "code",
   "execution_count": 12,
   "metadata": {},
   "outputs": [
    {
     "data": {
      "image/png": "[encoded data removed]",
      "text/plain": [
       "<Figure size 432x288 with 1 Axes>"
      ]
     },
     "metadata": {
      "needs_background": "light"
     },
     "output_type": "display_data"
    }
   ],
   "source": [
    "fires = df.groupby('ArchiveYear').size()\n",
    "fires.plot();"
   ]
  },
  {
   "cell_type": "code",
   "execution_count": 13,
   "metadata": {},
   "outputs": [],
   "source": [
    "df['Year Started'] = df.Started.apply(lambda x: int(x[:4]))"
   ]
  },
  {
   "cell_type": "code",
   "execution_count": 14,
   "metadata": {},
   "outputs": [
    {
     "data": {
      "image/png": "[encoded data removed]",
      "text/plain": [
       "<Figure size 432x288 with 1 Axes>"
      ]
     },
     "metadata": {
      "needs_background": "light"
     },
     "output_type": "display_data"
    }
   ],
   "source": [
    "df['Year Started'].value_counts().sort_index().plot();\n",
    "plt.title(\"Number of Fires per Year (by start date)\");\n",
    "plt.ylabel(\"Number of Fires\");\n",
    "plt.xlabel(\"Year\");"
   ]
  },
  {
   "cell_type": "markdown",
   "metadata": {},
   "source": [
    "## Question 2: What counties in California experience the most fires?\n",
    "To answer this, I grouped the dataset by counties and used a count as my aggregate function - essentially performing the same calculation as a pivot table in Excel/Sheets. I then saved this table into a CSV and copied the data into Data Wrapper to make the choropleth map below. "
   ]
  },
  {
   "cell_type": "code",
   "execution_count": 137,
   "metadata": {},
   "outputs": [
    {
     "data": {
      "text/html": [
       "<div>\n",
       "<style scoped>\n",
       "    .dataframe tbody tr th:only-of-type {\n",
       "        vertical-align: middle;\n",
       "    }\n",
       "\n",
       "    .dataframe tbody tr th {\n",
       "        vertical-align: top;\n",
       "    }\n",
       "\n",
       "    .dataframe thead th {\n",
       "        text-align: right;\n",
       "    }\n",
       "</style>\n",
       "<table border=\"1\" class=\"dataframe\">\n",
       "  <thead>\n",
       "    <tr style=\"text-align: right;\">\n",
       "      <th></th>\n",
       "      <th>Counties</th>\n",
       "      <th>Count</th>\n",
       "    </tr>\n",
       "  </thead>\n",
       "  <tbody>\n",
       "    <tr>\n",
       "      <th>32</th>\n",
       "      <td>Riverside</td>\n",
       "      <td>146</td>\n",
       "    </tr>\n",
       "    <tr>\n",
       "      <th>36</th>\n",
       "      <td>San Diego</td>\n",
       "      <td>89</td>\n",
       "    </tr>\n",
       "    <tr>\n",
       "      <th>3</th>\n",
       "      <td>Butte</td>\n",
       "      <td>66</td>\n",
       "    </tr>\n",
       "    <tr>\n",
       "      <th>43</th>\n",
       "      <td>Shasta</td>\n",
       "      <td>64</td>\n",
       "    </tr>\n",
       "    <tr>\n",
       "      <th>38</th>\n",
       "      <td>San Luis Obispo</td>\n",
       "      <td>64</td>\n",
       "    </tr>\n",
       "  </tbody>\n",
       "</table>\n",
       "</div>"
      ],
      "text/plain": [
       "           Counties  Count\n",
       "32        Riverside    146\n",
       "36        San Diego     89\n",
       "3             Butte     66\n",
       "43           Shasta     64\n",
       "38  San Luis Obispo     64"
      ]
     },
     "execution_count": 137,
     "metadata": {},
     "output_type": "execute_result"
    }
   ],
   "source": [
    "# Number of fires by county\n",
    "counties = df.groupby(\"Counties\").count().rename(columns={\"UniqueId\":\"Count\"})[[\"Count\"]].reset_index(level='Counties')\n",
    "counties.to_csv(\"fires_counties.csv\")\n",
    "counties.sort_values(by=['Count'],ascending=False).head()"
   ]
  },
  {
   "cell_type": "markdown",
   "metadata": {},
   "source": [
    "![alt text](counties.png)"
   ]
  },
  {
   "cell_type": "markdown",
   "metadata": {},
   "source": [
    "## Question 3: Which counties have the most major incidents?\n",
    "In order to answer this question, I first filtered for major incidents (True values in the MajorIncident column), then grouped by counties with the same aggregation method used in the previous question, and then sorted to see the five counties with the most major incidents. \n",
    "\n",
    "It makes sense that Butte, San Diego, Shasta, and Riverside appeared on this list because these counties were also among the leaders in most fires. However, I was surprised to see that only 12% of the fires in Riverside (the county with the most fires) were considered major incidents. "
   ]
  },
  {
   "cell_type": "code",
   "execution_count": 136,
   "metadata": {},
   "outputs": [
    {
     "data": {
      "text/html": [
       "<div>\n",
       "<style scoped>\n",
       "    .dataframe tbody tr th:only-of-type {\n",
       "        vertical-align: middle;\n",
       "    }\n",
       "\n",
       "    .dataframe tbody tr th {\n",
       "        vertical-align: top;\n",
       "    }\n",
       "\n",
       "    .dataframe thead th {\n",
       "        text-align: right;\n",
       "    }\n",
       "</style>\n",
       "<table border=\"1\" class=\"dataframe\">\n",
       "  <thead>\n",
       "    <tr style=\"text-align: right;\">\n",
       "      <th></th>\n",
       "      <th>Counties</th>\n",
       "      <th>Count</th>\n",
       "    </tr>\n",
       "  </thead>\n",
       "  <tbody>\n",
       "    <tr>\n",
       "      <th>2</th>\n",
       "      <td>Butte</td>\n",
       "      <td>28</td>\n",
       "    </tr>\n",
       "    <tr>\n",
       "      <th>32</th>\n",
       "      <td>San Diego</td>\n",
       "      <td>27</td>\n",
       "    </tr>\n",
       "    <tr>\n",
       "      <th>38</th>\n",
       "      <td>Shasta</td>\n",
       "      <td>26</td>\n",
       "    </tr>\n",
       "    <tr>\n",
       "      <th>13</th>\n",
       "      <td>Lake</td>\n",
       "      <td>21</td>\n",
       "    </tr>\n",
       "    <tr>\n",
       "      <th>28</th>\n",
       "      <td>Riverside</td>\n",
       "      <td>18</td>\n",
       "    </tr>\n",
       "  </tbody>\n",
       "</table>\n",
       "</div>"
      ],
      "text/plain": [
       "     Counties  Count\n",
       "2       Butte     28\n",
       "32  San Diego     27\n",
       "38     Shasta     26\n",
       "13       Lake     21\n",
       "28  Riverside     18"
      ]
     },
     "execution_count": 136,
     "metadata": {},
     "output_type": "execute_result"
    }
   ],
   "source": [
    "# Filter for major incidents\n",
    "major_incidents = df[df[\"MajorIncident\"] == True]\n",
    "\n",
    "# Number of fires by county\n",
    "major_incidents_counties = major_incidents.groupby(\"Counties\").count().rename(columns={\"UniqueId\":\"Count\"})[[\"Count\"]].reset_index(level='Counties')\n",
    "major_incidents_counties.sort_values(by=['Count'],ascending=False).head()"
   ]
  },
  {
   "cell_type": "markdown",
   "metadata": {},
   "source": [
    "# Question 4: Where were the worst fires in 2019?\n",
    "I answered this question by filtering for fires that started in 2019 that were major incidents. There were 29 total fires that fit this description, so I needed to find find another metric to measure the \"worst fires\". Injuries seemed like a natural way to measure severity of fires but this dataset lacked a lot of values in that column. Instead I used \"AcresBurned\" as a proxy for severity - this revealed that the Kincade Fire in Sonoma County was the worst fire with nearly 78,000 acres burned."
   ]
  },
  {
   "cell_type": "code",
   "execution_count": 146,
   "metadata": {},
   "outputs": [
    {
     "name": "stdout",
     "output_type": "stream",
     "text": [
      "There were 29 major incidents in 2019\n"
     ]
    }
   ],
   "source": [
    "# Filter for 2019 fires and major incidents\n",
    "fires_2019 = df[df[\"Year Started\"] == 2019]\n",
    "major_2019 = fires_2019[fires_2019[\"MajorIncident\"] == True]\n",
    "print('There were {} major incidents in 2019'.format(len(major_2019)))"
   ]
  },
  {
   "cell_type": "code",
   "execution_count": 149,
   "metadata": {},
   "outputs": [
    {
     "data": {
      "text/html": [
       "<div>\n",
       "<style scoped>\n",
       "    .dataframe tbody tr th:only-of-type {\n",
       "        vertical-align: middle;\n",
       "    }\n",
       "\n",
       "    .dataframe tbody tr th {\n",
       "        vertical-align: top;\n",
       "    }\n",
       "\n",
       "    .dataframe thead th {\n",
       "        text-align: right;\n",
       "    }\n",
       "</style>\n",
       "<table border=\"1\" class=\"dataframe\">\n",
       "  <thead>\n",
       "    <tr style=\"text-align: right;\">\n",
       "      <th></th>\n",
       "      <th>AcresBurned</th>\n",
       "      <th>Active</th>\n",
       "      <th>AdminUnit</th>\n",
       "      <th>AirTankers</th>\n",
       "      <th>ArchiveYear</th>\n",
       "      <th>CalFireIncident</th>\n",
       "      <th>CanonicalUrl</th>\n",
       "      <th>ConditionStatement</th>\n",
       "      <th>ControlStatement</th>\n",
       "      <th>Counties</th>\n",
       "      <th>...</th>\n",
       "      <th>Started</th>\n",
       "      <th>Status</th>\n",
       "      <th>StructuresDamaged</th>\n",
       "      <th>StructuresDestroyed</th>\n",
       "      <th>StructuresEvacuated</th>\n",
       "      <th>StructuresThreatened</th>\n",
       "      <th>UniqueId</th>\n",
       "      <th>Updated</th>\n",
       "      <th>WaterTenders</th>\n",
       "      <th>Year Started</th>\n",
       "    </tr>\n",
       "  </thead>\n",
       "  <tbody>\n",
       "    <tr>\n",
       "      <th>1396</th>\n",
       "      <td>77758.0</td>\n",
       "      <td>False</td>\n",
       "      <td>CAL FIRE Sonoma-Lake-Napa Unit</td>\n",
       "      <td>NaN</td>\n",
       "      <td>2019</td>\n",
       "      <td>True</td>\n",
       "      <td>/incidents/2019/10/23/kincade-fire/</td>\n",
       "      <td>&lt;p&gt;All evacuations have been lifted at this ti...</td>\n",
       "      <td>NaN</td>\n",
       "      <td>Sonoma</td>\n",
       "      <td>...</td>\n",
       "      <td>2019-10-23T21:27:00Z</td>\n",
       "      <td>Finalized</td>\n",
       "      <td>60.0</td>\n",
       "      <td>374.0</td>\n",
       "      <td>NaN</td>\n",
       "      <td>0.0</td>\n",
       "      <td>809d101c-8aa3-4a53-bf20-f38ae7ec7941</td>\n",
       "      <td>2019-11-20T11:02:52.127Z</td>\n",
       "      <td>2.0</td>\n",
       "      <td>2019</td>\n",
       "    </tr>\n",
       "  </tbody>\n",
       "</table>\n",
       "<p>1 rows × 41 columns</p>\n",
       "</div>"
      ],
      "text/plain": [
       "      AcresBurned  Active                       AdminUnit  AirTankers  \\\n",
       "1396      77758.0   False  CAL FIRE Sonoma-Lake-Napa Unit         NaN   \n",
       "\n",
       "      ArchiveYear  CalFireIncident                         CanonicalUrl  \\\n",
       "1396         2019             True  /incidents/2019/10/23/kincade-fire/   \n",
       "\n",
       "                                     ConditionStatement ControlStatement  \\\n",
       "1396  <p>All evacuations have been lifted at this ti...              NaN   \n",
       "\n",
       "     Counties      ...                    Started     Status  \\\n",
       "1396   Sonoma      ...       2019-10-23T21:27:00Z  Finalized   \n",
       "\n",
       "      StructuresDamaged  StructuresDestroyed StructuresEvacuated  \\\n",
       "1396               60.0                374.0                 NaN   \n",
       "\n",
       "      StructuresThreatened                              UniqueId  \\\n",
       "1396                   0.0  809d101c-8aa3-4a53-bf20-f38ae7ec7941   \n",
       "\n",
       "                       Updated WaterTenders  Year Started  \n",
       "1396  2019-11-20T11:02:52.127Z          2.0          2019  \n",
       "\n",
       "[1 rows x 41 columns]"
      ]
     },
     "execution_count": 149,
     "metadata": {},
     "output_type": "execute_result"
    }
   ],
   "source": [
    "# Sort by AcresBurned and use this feautre as a heuristic to measure severity of incident\n",
    "major_2019.sort_values(by=['AcresBurned'],ascending=False).head(1)"
   ]
  },
  {
   "cell_type": "code",
   "execution_count": 165,
   "metadata": {},
   "outputs": [
    {
     "data": {
      "text/html": [
       "<div>\n",
       "<style scoped>\n",
       "    .dataframe tbody tr th:only-of-type {\n",
       "        vertical-align: middle;\n",
       "    }\n",
       "\n",
       "    .dataframe tbody tr th {\n",
       "        vertical-align: top;\n",
       "    }\n",
       "\n",
       "    .dataframe thead th {\n",
       "        text-align: right;\n",
       "    }\n",
       "</style>\n",
       "<table border=\"1\" class=\"dataframe\">\n",
       "  <thead>\n",
       "    <tr style=\"text-align: right;\">\n",
       "      <th></th>\n",
       "      <th>AcresBurned</th>\n",
       "    </tr>\n",
       "    <tr>\n",
       "      <th>Counties</th>\n",
       "      <th></th>\n",
       "    </tr>\n",
       "  </thead>\n",
       "  <tbody>\n",
       "    <tr>\n",
       "      <th>Lake</th>\n",
       "      <td>582784.0</td>\n",
       "    </tr>\n",
       "    <tr>\n",
       "      <th>Mendocino</th>\n",
       "      <td>512712.0</td>\n",
       "    </tr>\n",
       "    <tr>\n",
       "      <th>Trinity</th>\n",
       "      <td>481048.0</td>\n",
       "    </tr>\n",
       "    <tr>\n",
       "      <th>Colusa</th>\n",
       "      <td>459316.0</td>\n",
       "    </tr>\n",
       "    <tr>\n",
       "      <th>Shasta</th>\n",
       "      <td>448527.0</td>\n",
       "    </tr>\n",
       "  </tbody>\n",
       "</table>\n",
       "</div>"
      ],
      "text/plain": [
       "           AcresBurned\n",
       "Counties              \n",
       "Lake          582784.0\n",
       "Mendocino     512712.0\n",
       "Trinity       481048.0\n",
       "Colusa        459316.0\n",
       "Shasta        448527.0"
      ]
     },
     "execution_count": 165,
     "metadata": {},
     "output_type": "execute_result"
    }
   ],
   "source": [
    "df.groupby(['Counties']).agg({'AcresBurned': 'sum'}).sort_values(by=['AcresBurned'],ascending=False).head()"
   ]
  },
  {
   "cell_type": "markdown",
   "metadata": {},
   "source": [
    "## Question 5: Has fire damage increased in California over time?\n",
    "This was similar to our first question but with an different aggregating function. The findings were pretty surprising, the dramatic increase over time of total acres burned per year aligned with conventional wisdom. However, the sharp drop off in 2019 was completely shocking. This dropoff could be attributed to incomplete data for 2019."
   ]
  },
  {
   "cell_type": "code",
   "execution_count": 161,
   "metadata": {},
   "outputs": [
    {
     "data": {
      "image/png": "[encoded data removed]",
      "text/plain": [
       "<Figure size 432x288 with 1 Axes>"
      ]
     },
     "metadata": {
      "needs_background": "light"
     },
     "output_type": "display_data"
    }
   ],
   "source": [
    "df.groupby(['Year Started']).agg({'AcresBurned': 'sum'}).plot(legend=None);\n",
    "plt.title(\"Total Acres Burned by Fires per Year (by start date)\");\n",
    "plt.ylabel(\"Total Acres Burned\");\n",
    "plt.xlabel(\"Year\");"
   ]
  },
  {
   "cell_type": "markdown",
   "metadata": {},
   "source": [
    "## Story Pitch: \n",
    "\n",
    "Using this data analysis as a stepping off point, I could develop a story on the difference between being a city firefighter and wildland firefighter. City firefighters are trained in building escapes and tackling the source of fires, these firefighters are more common in urban and suburban areas (i.e. San Diego county). Wildland firefighters on the other hand deal with much larger fires with the goal of stopping the spread and minimizing property and landscape damages, these firefighters are typically station in rural counties like Sonoma, Lake, Shasta, and Colusa.\n",
    "\n",
    "We found in our analysis that there were some suburban and urban heavy counties experience the most fires, but the most damaging fires were in rural areas. It would be interesting to compare and contrast the role of firefighters in these areas who share the reality that fires are increasing. \n",
    "\n",
    "My key sources would be two firefighters: Joe Lerdal & Matt Nielsen. I have been close friends with Joe since our freshman year at Cal, over the past few summers he has served a wildland firefighter in Northern California and Oregon. His experience working to contain deadly fires in these rural environments would be very informative for this story. Nielsen, the father of one of my fraternity brothers and high school classmates, is a Battalion Chief for a fire station in the Ocean Beach neighborhood of San Diego. He has worked with this fire station since 1996 and his extensive experience would provide a valuable perspective for this story. \n",
    "\n",
    "Other sources I would need to develop this story would be more complete data on equiptment used during the fire (i.e. Dozers, Engines, Helicopters columns) and county/station specific data on firefighter injuries and deaths. The equipment data will give us a better picture on the severity of incidents and tell us how prepared firefighters are. The info on firefighter deaths/injuries would reveal the difference in danger between city and wildland firefighting."
   ]
  }
 ],
 "metadata": {
  "kernelspec": {
   "display_name": "Python 3",
   "language": "python",
   "name": "python3"
  },
  "language_info": {
   "codemirror_mode": {
    "name": "ipython",
    "version": 3
   },
   "file_extension": ".py",
   "mimetype": "text/x-python",
   "name": "python",
   "nbconvert_exporter": "python",
   "pygments_lexer": "ipython3",
   "version": "3.7.1"
  }
 },
 "nbformat": 4,
 "nbformat_minor": 2
}
